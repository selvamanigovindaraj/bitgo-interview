{
 "cells": [
  {
   "cell_type": "code",
   "execution_count": 13,
   "metadata": {},
   "outputs": [],
   "source": [
    "!pip install requests\n",
    "import requests\n"
   ]
  },
  {
   "cell_type": "code",
   "execution_count": null,
   "metadata": {},
   "outputs": [],
   "source": [
    "def getTxnsForHash(hash):\n",
    "    idx =0\n",
    "    responseList =[]\n",
    "    payload={}\n",
    "    headers = {}\n",
    "    while True:\n",
    "        try:\n",
    "            url = F\"https://blockstream.info/api/block/{hash}/txs/{idx*25}\"\n",
    "            idx+=1\n",
    "            response = requests.request(\"GET\", url, headers=headers, data=payload)\n",
    "            for  txn in response.json():\n",
    "                responseList.append(txn)\n",
    "        except:\n",
    "            break\n",
    "    return responseList\n",
    "\n",
    "# getTxnsForHash(\"000000000000000000076c036ff5119e5a5a74df77abf64203473364509f7732\")"
   ]
  },
  {
   "cell_type": "code",
   "execution_count": 15,
   "metadata": {},
   "outputs": [
    {
     "name": "stdout",
     "output_type": "stream",
     "text": [
      "https://blockstream.info/api/block-height/680000\n"
     ]
    },
    {
     "data": {
      "text/plain": [
       "'000000000000000000076c036ff5119e5a5a74df77abf64203473364509f7732'"
      ]
     },
     "execution_count": 15,
     "metadata": {},
     "output_type": "execute_result"
    }
   ],
   "source": [
    "def getBlockTransactionHash(block):\n",
    "    url = F\"https://blockstream.info/api/block-height/{str(block)}\"\n",
    "    payload={}\n",
    "    headers = {}\n",
    "    response = requests.request(\"GET\", url, headers=headers, data=payload)\n",
    "    return response.text\n"
   ]
  },
  {
   "cell_type": "code",
   "execution_count": 16,
   "metadata": {},
   "outputs": [],
   "source": [
    "def setCurrentBlockTxns(transactionList , transactionMap):\n",
    "    for idx in range(1, len(transactionList)):\n",
    "        transactionMap[transactionList[idx]['txid']] = True"
   ]
  },
  {
   "cell_type": "code",
   "execution_count": 38,
   "metadata": {},
   "outputs": [],
   "source": [
    "def getCountParenttransactions(transactionList , transtionInBlock,parents,parentTransactionCountMap):\n",
    "    for idx in range (1, len(transactionList)):\n",
    "        currentTxn = transactionList[idx]['txid']\n",
    "        parentTxns= transactionList[idx]['vin']\n",
    "        for i in range(len(parentTxns)):\n",
    "            if transtionInBlock.get(parentTxns[i]['txid'], False):\n",
    "                parentTransactionCountMap[currentTxn] = parentTransactionCountMap.get(currentTxn ,0)+1\n",
    "                if currentTxn not in parents:\n",
    "                    parents[currentTxn] = []\n",
    "                parents[currentTxn].append(parentTxns[i]['txid'])\n"
   ]
  },
  {
   "cell_type": "code",
   "execution_count": 40,
   "metadata": {},
   "outputs": [],
   "source": [
    "def getTotalCount(parentTxnCount, parentMap):\n",
    "    for key in parentTxnCount:\n",
    "        parents = parentMap[key]\n",
    "        for txid in parents:\n",
    "            parentTxnCount[key] = parentTxnCount.get(key, 0) + parentTxnCount.get(txid, 0)"
   ]
  },
  {
   "cell_type": "code",
   "execution_count": 44,
   "metadata": {},
   "outputs": [
    {
     "name": "stdout",
     "output_type": "stream",
     "text": [
      "https://blockstream.info/api/block-height/680000\n",
      "14 7d08f0c61cda9379bdf1fa68095f827199a0d4cb6b466a6da3f0dc956772c52b\n",
      "13 b2bab595112517e8b6a06aa9f616272b479e57e21b4da52877ddf385316aa19b\n",
      "12 d294be35db0b5fab4a6a00d6e4441c7e54be88fa02dfc188b75e4604ec6c3fcf\n",
      "12 7a128b0242d89d327fc2c273199c7529a31477d8ea949e5176b2a4eb69b74464\n",
      "12 7841dc7cf61d394094f4341fa98d0a6fd771e95ac93a9dcfec12a23ed3c670c5\n",
      "12 4205c68c68266259c5723948e0407dff25600e6420659cef4286dd1ae4658b63\n",
      "11 ef6c8e97b62eced1913df503667d49b9f5890cdb201be5d5d6c304af1d3f5db1\n",
      "11 afe4b90e667df0171f63e6cc95c0a12d24592d436dd2e8b9b2a9998b4099ff6d\n",
      "11 973e5adb05cc1cb80cabc5e451200333c993034153a078733ec06af7bf3c860b\n",
      "11 4b4c90943c1651eabb8c5dfb6f490c4e56bd6cf42950a0430db17b9691b0236c\n"
     ]
    },
    {
     "data": {
      "text/plain": [
       "[('7d08f0c61cda9379bdf1fa68095f827199a0d4cb6b466a6da3f0dc956772c52b', 14),\n",
       " ('b2bab595112517e8b6a06aa9f616272b479e57e21b4da52877ddf385316aa19b', 13),\n",
       " ('d294be35db0b5fab4a6a00d6e4441c7e54be88fa02dfc188b75e4604ec6c3fcf', 12),\n",
       " ('7a128b0242d89d327fc2c273199c7529a31477d8ea949e5176b2a4eb69b74464', 12),\n",
       " ('7841dc7cf61d394094f4341fa98d0a6fd771e95ac93a9dcfec12a23ed3c670c5', 12),\n",
       " ('4205c68c68266259c5723948e0407dff25600e6420659cef4286dd1ae4658b63', 12),\n",
       " ('ef6c8e97b62eced1913df503667d49b9f5890cdb201be5d5d6c304af1d3f5db1', 11),\n",
       " ('afe4b90e667df0171f63e6cc95c0a12d24592d436dd2e8b9b2a9998b4099ff6d', 11),\n",
       " ('973e5adb05cc1cb80cabc5e451200333c993034153a078733ec06af7bf3c860b', 11),\n",
       " ('4b4c90943c1651eabb8c5dfb6f490c4e56bd6cf42950a0430db17b9691b0236c', 11)]"
      ]
     },
     "execution_count": 44,
     "metadata": {},
     "output_type": "execute_result"
    }
   ],
   "source": [
    "def transactionAncestorySets(blockNumber):\n",
    "    transactionHash= getBlockTransactionHash(blockNumber)\n",
    "    transactionList = getTxnsForHash(transactionHash)\n",
    "    transcationInCurrentBlock={}\n",
    "    setCurrentBlockTxns(transactionList, transcationInCurrentBlock)\n",
    "    parentsMap ={}\n",
    "    parentTxnCountMap ={}\n",
    "    getCountParenttransactions(transactionList,transcationInCurrentBlock,parentsMap,parentTxnCountMap)\n",
    "    getTotalCount(parentTxnCountMap,parentsMap)\n",
    "    sortedCount = sorted(parentTxnCountMap.items(), key=lambda kv:\n",
    "                 (kv[1], kv[0]),reverse=True)\n",
    "    for idx in range(10):\n",
    "        print(sortedCount[idx][1] , sortedCount[idx][0])\n",
    "    # return sortedCount[:10]\n",
    "\n",
    "transactionAncestorySets(680000)"
   ]
  }
 ],
 "metadata": {
  "kernelspec": {
   "display_name": "Python 3",
   "language": "python",
   "name": "python3"
  },
  "language_info": {
   "codemirror_mode": {
    "name": "ipython",
    "version": 3
   },
   "file_extension": ".py",
   "mimetype": "text/x-python",
   "name": "python",
   "nbconvert_exporter": "python",
   "pygments_lexer": "ipython3",
   "version": "3.8.3"
  },
  "orig_nbformat": 4
 },
 "nbformat": 4,
 "nbformat_minor": 2
}
